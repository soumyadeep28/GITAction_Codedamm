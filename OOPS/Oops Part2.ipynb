{
 "cells": [
  {
   "cell_type": "code",
   "execution_count": 24,
   "metadata": {},
   "outputs": [],
   "source": [
    "import csv\n",
    "class Details:\n",
    "    discount = 8.5  #this is  class level param\n",
    "    all = []\n",
    "    def __init__(self , name:str , price:int ,):\n",
    "        \n",
    "        print(\"Object created\")\n",
    "        assert price>=0, f\"{price} is not greater than 0\"  #to validate and commands to share output io the user\n",
    "        self.name = name\n",
    "        self.price = price\n",
    "        \n",
    "        \n",
    "        \n",
    "        #storing all the param from the initials\n",
    "        Details.all.append(self)\n",
    "        \n",
    "    def appludiscount(self):\n",
    "        return (self.price * self.discount)/100\n",
    "    \n",
    "    \n",
    "    @classmethod\n",
    "    def instance_fromCSV(cls):\n",
    "        with open('details.csv' , 'r') as f:\n",
    "            reader = csv.DictReader(f)\n",
    "            items = list(reader)\n",
    "            \n",
    "        for item in items:\n",
    "            #print(item)\n",
    "            Details(\n",
    "                name = item.get('name'),\n",
    "                price = int(item.get('price')),\n",
    "            )\n",
    "        \n",
    "        \n",
    "    \n",
    "    \n",
    "    def __repr__(self):\n",
    "        return f\"Details('name:'{self.name} 'price: ' {self.price})\"\n",
    "        \n",
    "        \n",
    "    pass"
   ]
  },
  {
   "cell_type": "code",
   "execution_count": 25,
   "metadata": {},
   "outputs": [
    {
     "name": "stdout",
     "output_type": "stream",
     "text": [
      "Object created\n",
      "Object created\n",
      "Object created\n"
     ]
    }
   ],
   "source": [
    "Details.instance_fromCSV()"
   ]
  },
  {
   "cell_type": "code",
   "execution_count": 26,
   "metadata": {},
   "outputs": [
    {
     "name": "stdout",
     "output_type": "stream",
     "text": [
      "phone\n",
      "Laptop\n",
      "Cable\n"
     ]
    }
   ],
   "source": [
    "for i in Details.all:\n",
    "    print(i.name)"
   ]
  },
  {
   "cell_type": "code",
   "execution_count": 28,
   "metadata": {},
   "outputs": [
    {
     "data": {
      "text/plain": [
       "[Details('name:'phone 'price: ' 10000),\n",
       " Details('name:'Laptop 'price: ' 50000),\n",
       " Details('name:'Cable 'price: ' 50)]"
      ]
     },
     "execution_count": 28,
     "metadata": {},
     "output_type": "execute_result"
    }
   ],
   "source": [
    "Details.all"
   ]
  },
  {
   "cell_type": "code",
   "execution_count": 35,
   "metadata": {},
   "outputs": [],
   "source": [
    "class Product(Details):\n",
    "    def __init__(self , name:str , price:int , broken :int):\n",
    "        super().__init__(\n",
    "            name , price\n",
    "        )\n",
    "        self.broken = broken\n",
    "        assert self.broken>=0 ,f\"{broken} is not greater than 0\"\n",
    "        "
   ]
  },
  {
   "cell_type": "code",
   "execution_count": 37,
   "metadata": {},
   "outputs": [
    {
     "name": "stdout",
     "output_type": "stream",
     "text": [
      "Object created\n"
     ]
    },
    {
     "data": {
      "text/plain": [
       "2"
      ]
     },
     "execution_count": 37,
     "metadata": {},
     "output_type": "execute_result"
    }
   ],
   "source": [
    "pr1 = Product('vm' , 10000 , 2)\n",
    "pr1.name\n",
    "pr1.broken"
   ]
  },
  {
   "cell_type": "code",
   "execution_count": null,
   "metadata": {},
   "outputs": [],
   "source": []
  }
 ],
 "metadata": {
  "kernelspec": {
   "display_name": "Python 3",
   "language": "python",
   "name": "python3"
  },
  "language_info": {
   "codemirror_mode": {
    "name": "ipython",
    "version": 3
   },
   "file_extension": ".py",
   "mimetype": "text/x-python",
   "name": "python",
   "nbconvert_exporter": "python",
   "pygments_lexer": "ipython3",
   "version": "3.7.6"
  }
 },
 "nbformat": 4,
 "nbformat_minor": 4
}
