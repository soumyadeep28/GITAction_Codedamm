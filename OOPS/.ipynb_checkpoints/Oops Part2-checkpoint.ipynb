{
 "cells": [
  {
   "cell_type": "code",
   "execution_count": 6,
   "metadata": {},
   "outputs": [],
   "source": [
    "import csv\n",
    "class Details:\n",
    "    discount = 8.5  #this is  class level param\n",
    "    all = []\n",
    "    def __init__(self , name:str , price:int ,):\n",
    "        \n",
    "        print(\"Object created\")\n",
    "        assert price>=0, f\"{price} is not greater than 0\"  #to validate and commands to share output io the user\n",
    "        self.name = name\n",
    "        self.price = price\n",
    "        \n",
    "        \n",
    "        \n",
    "        #storing all the param from the initials\n",
    "        Details.all.append(self)\n",
    "        \n",
    "    def appludiscount(self):\n",
    "        return (self.price * self.discount)/100\n",
    "    \n",
    "    \n",
    "    @classmethod\n",
    "    def instance_fromCSV(cls):\n",
    "        with open('details.csv' , 'r') as f:\n",
    "            reader = csv.DictReader(f)\n",
    "            items = list(reader)\n",
    "            \n",
    "        for item in items:\n",
    "            #print(item)\n",
    "            Details(\n",
    "                name = item.get('name'),\n",
    "                price = int(item.get('price')),\n",
    "            )\n",
    "        \n",
    "        \n",
    "    \n",
    "    \n",
    "    \n",
    "        \n",
    "        \n",
    "    pass"
   ]
  },
  {
   "cell_type": "code",
   "execution_count": 4,
   "metadata": {},
   "outputs": [
    {
     "name": "stdout",
     "output_type": "stream",
     "text": [
      "OrderedDict([('name', 'phone'), ('price', '10000'), ('quantity', '5')])\n",
      "OrderedDict([('name', 'Laptop'), ('price', '50000'), ('quantity', '3')])\n",
      "OrderedDict([('name', 'Cable'), ('price', '50'), ('quantity', '5')])\n"
     ]
    }
   ],
   "source": [
    "Details.instance_fromCSV()"
   ]
  },
  {
   "cell_type": "code",
   "execution_count": 9,
   "metadata": {},
   "outputs": [
    {
     "data": {
      "text/plain": [
       "[]"
      ]
     },
     "execution_count": 9,
     "metadata": {},
     "output_type": "execute_result"
    }
   ],
   "source": [
    "Details.all"
   ]
  },
  {
   "cell_type": "code",
   "execution_count": null,
   "metadata": {},
   "outputs": [],
   "source": []
  }
 ],
 "metadata": {
  "kernelspec": {
   "display_name": "Python 3",
   "language": "python",
   "name": "python3"
  },
  "language_info": {
   "codemirror_mode": {
    "name": "ipython",
    "version": 3
   },
   "file_extension": ".py",
   "mimetype": "text/x-python",
   "name": "python",
   "nbconvert_exporter": "python",
   "pygments_lexer": "ipython3",
   "version": "3.7.6"
  }
 },
 "nbformat": 4,
 "nbformat_minor": 4
}
