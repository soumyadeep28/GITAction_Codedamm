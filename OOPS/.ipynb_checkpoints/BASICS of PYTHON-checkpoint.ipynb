{
 "cells": [
  {
   "cell_type": "code",
   "execution_count": 1,
   "metadata": {},
   "outputs": [
    {
     "data": {
      "text/plain": [
       "'0b101'"
      ]
     },
     "execution_count": 1,
     "metadata": {},
     "output_type": "execute_result"
    }
   ],
   "source": [
    "#convert number to binary\n",
    "bin(5) \n"
   ]
  },
  {
   "cell_type": "code",
   "execution_count": 2,
   "metadata": {},
   "outputs": [
    {
     "data": {
      "text/plain": [
       "5"
      ]
     },
     "execution_count": 2,
     "metadata": {},
     "output_type": "execute_result"
    }
   ],
   "source": [
    "#convert number to int\n",
    "int('0b101' , 2)"
   ]
  },
  {
   "cell_type": "code",
   "execution_count": 7,
   "metadata": {},
   "outputs": [
    {
     "name": "stdout",
     "output_type": "stream",
     "text": [
      " hi there this is soumya and my age is 20\n",
      "hi there this is soumya and my age is 20\n",
      "hi there this is soumya and my age is 20\n",
      "hi there this is 20 and my age is soumya\n"
     ]
    }
   ],
   "source": [
    "#formatted string --> print f before ' '\n",
    "name = 'soumya'\n",
    "age = 20\n",
    "\n",
    "print(f' hi there this is {name} and my age is {age}')\n",
    "\n",
    "\n",
    "#using .format word\n",
    "print('hi there this is {} and my age is {}'.format(name,age))\n",
    "print('hi there this is {0} and my age is {1}'.format(name,age))\n",
    "print('hi there this is {1} and my age is {0}'.format(name,age))"
   ]
  },
  {
   "cell_type": "markdown",
   "metadata": {},
   "source": [
    "#### THis is a exercise where password and username need to displayed\n"
   ]
  },
  {
   "cell_type": "code",
   "execution_count": 12,
   "metadata": {},
   "outputs": [
    {
     "name": "stdout",
     "output_type": "stream",
     "text": [
      "enter the usernamessengup\n",
      "enter passworddlaskdlaskn\n",
      " ssengup has the password as dlaskdlaskn and length is 11 and hidden password ***********\n"
     ]
    }
   ],
   "source": [
    "Uname = input('enter the username')\n",
    "password = input('enter password')\n",
    "lenpass = len(password)\n",
    "str1 = '*'\n",
    "print(f' {Uname} has the password as {password} and length is {lenpass} and hidden password {lenpass*str1 }')"
   ]
  },
  {
   "cell_type": "markdown",
   "metadata": {},
   "source": [
    "* LIST and operation "
   ]
  },
  {
   "cell_type": "code",
   "execution_count": 22,
   "metadata": {},
   "outputs": [
    {
     "name": "stdout",
     "output_type": "stream",
     "text": [
      "[0, 2, 3, 4, 5]\n",
      "None\n"
     ]
    }
   ],
   "source": [
    "\n",
    "\n",
    "basket = [0 , 2, 3 ,4 ,5]\n",
    "print(basket)\n",
    "basket.append(10)\n",
    "newbasket = basket.append(20)   \n",
    "#here append dont produce any value so when it is generating a value then no return as a result nothing is added to the new basket\n",
    "\n",
    "print(newbasket)"
   ]
  },
  {
   "cell_type": "code",
   "execution_count": 23,
   "metadata": {},
   "outputs": [
    {
     "name": "stdout",
     "output_type": "stream",
     "text": [
      "[0, 2, 20, 3, 4, 5, 10, 20]\n",
      "[0, 2, 20, 3, 4, 5, 10, 20]\n"
     ]
    }
   ],
   "source": [
    "newbasket = basket\n",
    "newbasket.insert(2,20)\n",
    "print(newbasket)\n",
    "print(basket)"
   ]
  },
  {
   "cell_type": "code",
   "execution_count": 24,
   "metadata": {},
   "outputs": [
    {
     "name": "stdout",
     "output_type": "stream",
     "text": [
      "None\n",
      "[0, 2, 20, 3, 4, 5, 10, 20, 10, 20]\n"
     ]
    }
   ],
   "source": [
    "newbasket1 = basket.extend([10,20])  # insert the list with the previousone\n",
    "print(newbasket1)\n",
    "print(basket)"
   ]
  },
  {
   "cell_type": "code",
   "execution_count": 25,
   "metadata": {},
   "outputs": [
    {
     "data": {
      "text/plain": [
       "6"
      ]
     },
     "execution_count": 25,
     "metadata": {},
     "output_type": "execute_result"
    }
   ],
   "source": [
    "basket.index(10)"
   ]
  },
  {
   "cell_type": "markdown",
   "metadata": {},
   "source": [
    "* String concat using list"
   ]
  },
  {
   "cell_type": "code",
   "execution_count": 29,
   "metadata": {},
   "outputs": [
    {
     "name": "stdout",
     "output_type": "stream",
     "text": [
      "this is my name\n",
      "this is my name\n"
     ]
    }
   ],
   "source": [
    "mylist = ['this' ,'is' ,'my', 'name']\n",
    "sen= ' '\n",
    "sen = sen.join(mylist)\n",
    "print(sen)\n",
    "print(\" \".join(mylist))"
   ]
  },
  {
   "cell_type": "code",
   "execution_count": 31,
   "metadata": {},
   "outputs": [
    {
     "name": "stdout",
     "output_type": "stream",
     "text": [
      "1\n",
      "2\n",
      "3\n"
     ]
    }
   ],
   "source": [
    "#list unpacking\n",
    "a,b,c = [1,2,3]\n",
    "print(a)\n",
    "print(b)\n",
    "print(c)"
   ]
  },
  {
   "cell_type": "code",
   "execution_count": 32,
   "metadata": {},
   "outputs": [
    {
     "name": "stdout",
     "output_type": "stream",
     "text": [
      "1\n",
      "2\n",
      "3\n",
      "[5, 8, 6]\n"
     ]
    }
   ],
   "source": [
    "a,b,c,*other= [1,2,3,5,8,6]\n",
    "print(a)\n",
    "print(b)\n",
    "print(c)\n",
    "print(other)"
   ]
  },
  {
   "cell_type": "code",
   "execution_count": 33,
   "metadata": {},
   "outputs": [
    {
     "name": "stdout",
     "output_type": "stream",
     "text": [
      "1\n",
      "2\n",
      "3\n",
      "[5, 8]\n",
      "6\n"
     ]
    }
   ],
   "source": [
    "a,b,c,*other ,d= [1,2,3,5,8,6]\n",
    "print(a)\n",
    "print(b)\n",
    "print(c)\n",
    "print(other)\n",
    "print(d)"
   ]
  },
  {
   "cell_type": "markdown",
   "metadata": {},
   "source": [
    "### Dictionary"
   ]
  },
  {
   "cell_type": "code",
   "execution_count": 19,
   "metadata": {},
   "outputs": [
    {
     "data": {
      "text/plain": [
       "2"
      ]
     },
     "execution_count": 19,
     "metadata": {},
     "output_type": "execute_result"
    }
   ],
   "source": [
    "dict1 = {\n",
    "    'a' : 2,\n",
    "    'b' : 3,\n",
    "    'c' :4\n",
    "}\n",
    "\n",
    "\n",
    "dict1['a']"
   ]
  },
  {
   "cell_type": "code",
   "execution_count": 43,
   "metadata": {},
   "outputs": [
    {
     "name": "stdout",
     "output_type": "stream",
     "text": [
      "None\n"
     ]
    }
   ],
   "source": [
    "print(dict1.get('bc'))"
   ]
  },
  {
   "cell_type": "code",
   "execution_count": 44,
   "metadata": {},
   "outputs": [
    {
     "name": "stdout",
     "output_type": "stream",
     "text": [
      "55\n"
     ]
    }
   ],
   "source": [
    "print(dict1.get('bc' , 55))"
   ]
  },
  {
   "cell_type": "code",
   "execution_count": 45,
   "metadata": {},
   "outputs": [
    {
     "data": {
      "text/plain": [
       "{'a': 2, 'b': 3, 'c': 4}"
      ]
     },
     "execution_count": 45,
     "metadata": {},
     "output_type": "execute_result"
    }
   ],
   "source": [
    "dict1"
   ]
  },
  {
   "cell_type": "code",
   "execution_count": 1,
   "metadata": {},
   "outputs": [],
   "source": [
    "dict2 = dict(name=\"jhon\")"
   ]
  },
  {
   "cell_type": "code",
   "execution_count": 2,
   "metadata": {},
   "outputs": [
    {
     "data": {
      "text/plain": [
       "{'name': 'jhon'}"
      ]
     },
     "execution_count": 2,
     "metadata": {},
     "output_type": "execute_result"
    }
   ],
   "source": [
    "dict2"
   ]
  },
  {
   "cell_type": "code",
   "execution_count": 6,
   "metadata": {},
   "outputs": [
    {
     "data": {
      "text/plain": [
       "dict_items([('a', 2), ('b', 3), ('c', 4)])"
      ]
     },
     "execution_count": 6,
     "metadata": {},
     "output_type": "execute_result"
    }
   ],
   "source": [
    "dict1.items()"
   ]
  },
  {
   "cell_type": "code",
   "execution_count": 12,
   "metadata": {},
   "outputs": [
    {
     "data": {
      "text/plain": [
       "dict_keys(['a', 'b', 'c'])"
      ]
     },
     "execution_count": 12,
     "metadata": {},
     "output_type": "execute_result"
    }
   ],
   "source": [
    "dict1.keys()"
   ]
  },
  {
   "cell_type": "code",
   "execution_count": 7,
   "metadata": {},
   "outputs": [
    {
     "data": {
      "text/plain": [
       "dict_values([2, 3, 4])"
      ]
     },
     "execution_count": 7,
     "metadata": {},
     "output_type": "execute_result"
    }
   ],
   "source": [
    "dict1.values()"
   ]
  },
  {
   "cell_type": "code",
   "execution_count": 11,
   "metadata": {},
   "outputs": [
    {
     "name": "stdout",
     "output_type": "stream",
     "text": [
      "2\n",
      "3\n",
      "4\n"
     ]
    }
   ],
   "source": [
    "for i in dict1.keys():\n",
    "    print(dict1[i])"
   ]
  },
  {
   "cell_type": "code",
   "execution_count": 15,
   "metadata": {},
   "outputs": [
    {
     "name": "stdout",
     "output_type": "stream",
     "text": [
      "{}\n"
     ]
    }
   ],
   "source": [
    "#delete clear dict\n",
    "dict1.clear()\n",
    "print(dict1)"
   ]
  },
  {
   "cell_type": "code",
   "execution_count": 20,
   "metadata": {},
   "outputs": [
    {
     "name": "stdout",
     "output_type": "stream",
     "text": [
      "2\n"
     ]
    }
   ],
   "source": [
    "print(dict1.pop('a'))"
   ]
  },
  {
   "cell_type": "markdown",
   "metadata": {},
   "source": [
    "### Random number generator"
   ]
  },
  {
   "cell_type": "code",
   "execution_count": 21,
   "metadata": {},
   "outputs": [
    {
     "data": {
      "text/plain": [
       "7"
      ]
     },
     "execution_count": 21,
     "metadata": {},
     "output_type": "execute_result"
    }
   ],
   "source": [
    "import random\n",
    "random.randint(1,10)"
   ]
  },
  {
   "cell_type": "code",
   "execution_count": null,
   "metadata": {},
   "outputs": [],
   "source": []
  },
  {
   "cell_type": "markdown",
   "metadata": {},
   "source": [
    "### copy to clip board\n",
    "- import piperclip and pip install   pip install pyperclip\n"
   ]
  },
  {
   "cell_type": "code",
   "execution_count": 1,
   "metadata": {},
   "outputs": [],
   "source": [
    "import pyperclip\n"
   ]
  },
  {
   "cell_type": "code",
   "execution_count": 3,
   "metadata": {},
   "outputs": [
    {
     "data": {
      "text/plain": [
       "'name : soumya'"
      ]
     },
     "execution_count": 3,
     "metadata": {},
     "output_type": "execute_result"
    }
   ],
   "source": [
    "pyperclip.copy('name : soumya') \n",
    "pyperclip.paste()"
   ]
  },
  {
   "cell_type": "markdown",
   "metadata": {},
   "source": [
    "### Print usage"
   ]
  },
  {
   "cell_type": "code",
   "execution_count": 9,
   "metadata": {},
   "outputs": [
    {
     "name": "stdout",
     "output_type": "stream",
     "text": [
      "abc cde efg\n",
      "abcABCcdeABCefg\n",
      "abc cde efg abc cde efg"
     ]
    }
   ],
   "source": [
    "print('abc','cde' , 'efg')\n",
    "\n",
    "print('abc','cde' , 'efg' ,sep='ABC')\n",
    "\n",
    "print('abc','cde' , 'efg' ,end=' ')\n",
    "print('abc','cde' , 'efg' ,end='')"
   ]
  },
  {
   "cell_type": "markdown",
   "metadata": {},
   "source": [
    "### TRY catch"
   ]
  },
  {
   "cell_type": "code",
   "execution_count": 11,
   "metadata": {},
   "outputs": [
    {
     "ename": "ZeroDivisionError",
     "evalue": "division by zero",
     "output_type": "error",
     "traceback": [
      "\u001b[1;31m---------------------------------------------------------------------------\u001b[0m",
      "\u001b[1;31mZeroDivisionError\u001b[0m                         Traceback (most recent call last)",
      "\u001b[1;32m<ipython-input-11-072973abd346>\u001b[0m in \u001b[0;36m<module>\u001b[1;34m\u001b[0m\n\u001b[0;32m      4\u001b[0m \u001b[0mdivby\u001b[0m\u001b[1;33m(\u001b[0m\u001b[1;36m2\u001b[0m\u001b[1;33m)\u001b[0m\u001b[1;33m\u001b[0m\u001b[1;33m\u001b[0m\u001b[0m\n\u001b[0;32m      5\u001b[0m \u001b[1;33m\u001b[0m\u001b[0m\n\u001b[1;32m----> 6\u001b[1;33m \u001b[0mdivby\u001b[0m\u001b[1;33m(\u001b[0m\u001b[1;36m0\u001b[0m\u001b[1;33m)\u001b[0m\u001b[1;33m\u001b[0m\u001b[1;33m\u001b[0m\u001b[0m\n\u001b[0m",
      "\u001b[1;32m<ipython-input-11-072973abd346>\u001b[0m in \u001b[0;36mdivby\u001b[1;34m(num)\u001b[0m\n\u001b[0;32m      1\u001b[0m \u001b[1;32mdef\u001b[0m \u001b[0mdivby\u001b[0m\u001b[1;33m(\u001b[0m\u001b[0mnum\u001b[0m\u001b[1;33m)\u001b[0m\u001b[1;33m:\u001b[0m\u001b[1;33m\u001b[0m\u001b[1;33m\u001b[0m\u001b[0m\n\u001b[1;32m----> 2\u001b[1;33m     \u001b[1;32mreturn\u001b[0m \u001b[1;36m12\u001b[0m\u001b[1;33m/\u001b[0m\u001b[0mnum\u001b[0m\u001b[1;33m\u001b[0m\u001b[1;33m\u001b[0m\u001b[0m\n\u001b[0m\u001b[0;32m      3\u001b[0m \u001b[1;33m\u001b[0m\u001b[0m\n\u001b[0;32m      4\u001b[0m \u001b[0mdivby\u001b[0m\u001b[1;33m(\u001b[0m\u001b[1;36m2\u001b[0m\u001b[1;33m)\u001b[0m\u001b[1;33m\u001b[0m\u001b[1;33m\u001b[0m\u001b[0m\n\u001b[0;32m      5\u001b[0m \u001b[1;33m\u001b[0m\u001b[0m\n",
      "\u001b[1;31mZeroDivisionError\u001b[0m: division by zero"
     ]
    }
   ],
   "source": [
    "def divby(num):\n",
    "    return 12/num\n",
    "\n",
    "divby(2)\n",
    "\n",
    "divby(0)\n"
   ]
  },
  {
   "cell_type": "code",
   "execution_count": 1,
   "metadata": {},
   "outputs": [
    {
     "name": "stdout",
     "output_type": "stream",
     "text": [
      "6.0\n",
      "trying to div by zero\n",
      "None\n"
     ]
    }
   ],
   "source": [
    "def divby(num):\n",
    "    try:\n",
    "        return 12/num\n",
    "    except ZeroDivisionError:\n",
    "        print(\"trying to div by zero\")\n",
    "    \n",
    "        \n",
    "print(divby(2))\n",
    "\n",
    "print(divby(0))"
   ]
  },
  {
   "cell_type": "markdown",
   "metadata": {},
   "source": [
    "### Number of occurance in string"
   ]
  },
  {
   "cell_type": "code",
   "execution_count": 1,
   "metadata": {},
   "outputs": [
    {
     "name": "stdout",
     "output_type": "stream",
     "text": [
      "{'t': 2, 'h': 2, 'i': 4, 's': 4, ' ': 5, 'y': 1, 'o': 1, 'u': 2, 'r': 2, 'n': 1, 'm': 1, 'b': 1, 'e': 1}\n"
     ]
    }
   ],
   "source": [
    "str1 = 'this is this is your number'\n",
    "dict1 ={}\n",
    "\n",
    "for i in str1 :\n",
    "    dict1.setdefault(i ,0)\n",
    "    dict1[i] = dict1[i] +1\n",
    "    \n",
    "print(dict1)"
   ]
  },
  {
   "cell_type": "code",
   "execution_count": 5,
   "metadata": {},
   "outputs": [
    {
     "name": "stdout",
     "output_type": "stream",
     "text": [
      "{' ': 5,\n",
      " 'b': 1,\n",
      " 'e': 1,\n",
      " 'h': 2,\n",
      " 'i': 4,\n",
      " 'm': 1,\n",
      " 'n': 1,\n",
      " 'o': 1,\n",
      " 'r': 2,\n",
      " 's': 4,\n",
      " 't': 2,\n",
      " 'u': 2,\n",
      " 'y': 1}\n"
     ]
    }
   ],
   "source": [
    "\n",
    "import pprint\n",
    "pprint.pprint(dict1)"
   ]
  },
  {
   "cell_type": "markdown",
   "metadata": {},
   "source": [
    "### unix task\n",
    "#!/bin/python\n",
    "import sys\n",
    "print(sys.argv) this is to print all the argument\n"
   ]
  },
  {
   "cell_type": "markdown",
   "metadata": {},
   "source": [
    "### REGEX\n",
    "\n",
    "- any \\d for digit\n",
    "- any \\s for space\n",
    "- any \\w for word\n",
    "- r'^hello'  --> this implies starting with hello\n",
    "- r'bye$' --> this implies ending with bye\n",
    "- re.DOTALL  for all\n",
    "- (.*) for all"
   ]
  },
  {
   "cell_type": "code",
   "execution_count": 17,
   "metadata": {},
   "outputs": [
    {
     "name": "stdout",
     "output_type": "stream",
     "text": [
      "<re.Match object; span=(25, 39), match='+91-9062683440'>\n"
     ]
    }
   ],
   "source": [
    "\n",
    "\n",
    "\n",
    "import re\n",
    "msg = 'this is tool my phone is +91-9062683440 this need to be updated to +91-8529637410'\n",
    "reg = re.compile(r'\\+\\d\\d-\\d\\d\\d\\d\\d\\d\\d\\d\\d\\d')\n",
    "mo = reg.search(msg)\n",
    "mo.group()\n",
    "print(mo)"
   ]
  },
  {
   "cell_type": "code",
   "execution_count": 18,
   "metadata": {},
   "outputs": [
    {
     "data": {
      "text/plain": [
       "'+91-9062683440'"
      ]
     },
     "execution_count": 18,
     "metadata": {},
     "output_type": "execute_result"
    }
   ],
   "source": [
    "#mo.group is creating the regular exp gropu into string output\n",
    "mo.group()"
   ]
  },
  {
   "cell_type": "code",
   "execution_count": 14,
   "metadata": {},
   "outputs": [
    {
     "name": "stdout",
     "output_type": "stream",
     "text": [
      "['+91-9062683440', '+91-8529637410']\n"
     ]
    }
   ],
   "source": [
    "m1 = reg.findall(msg)\n",
    "print(m1)"
   ]
  },
  {
   "cell_type": "markdown",
   "metadata": {},
   "source": [
    "<br>"
   ]
  },
  {
   "cell_type": "code",
   "execution_count": 26,
   "metadata": {},
   "outputs": [
    {
     "name": "stdout",
     "output_type": "stream",
     "text": [
      "+91\n",
      "9062683440\n",
      "+91-9062683440\n"
     ]
    }
   ],
   "source": [
    "reg1 = re.compile(r'(\\+91)-(\\d\\d\\d\\d\\d\\d\\d\\d\\d\\d)')\n",
    "mo1 = reg1.search(msg)\n",
    "print(mo1.group(1))\n",
    "print(mo1.group(2))\n",
    "print(mo1.group())"
   ]
  },
  {
   "cell_type": "code",
   "execution_count": 54,
   "metadata": {},
   "outputs": [
    {
     "name": "stdout",
     "output_type": "stream",
     "text": [
      "batman\n"
     ]
    }
   ],
   "source": [
    "#use of pipe fo option\n",
    "msg1 = 'batman is great . he will have two childen batman and batgirl . h'\n",
    "\n",
    "reg2 = re.compile(r'(bat)+(MAN|man|girl)')\n",
    "mo3=reg2.search(msg1)\n",
    "print(mo3.group())"
   ]
  },
  {
   "cell_type": "code",
   "execution_count": 55,
   "metadata": {},
   "outputs": [
    {
     "name": "stdout",
     "output_type": "stream",
     "text": [
      "[('bat', 'man'), ('bat', 'man'), ('bat', 'girl')]\n"
     ]
    }
   ],
   "source": [
    "mo3 = reg2.findall(msg1)\n",
    "print(mo3)"
   ]
  },
  {
   "cell_type": "code",
   "execution_count": 60,
   "metadata": {},
   "outputs": [
    {
     "name": "stdout",
     "output_type": "stream",
     "text": [
      "9062683440\n"
     ]
    }
   ],
   "source": [
    "#? is used for may or maynot have\n",
    "msg = 'this is tool my phone is 9062683440'\n",
    "reg1 = re.compile(r'(\\+91)?-?(\\d\\d\\d\\d\\d\\d\\d\\d\\d\\d)')\n",
    "mo1 = reg1.search(msg)\n",
    "\n",
    "print(mo1.group())"
   ]
  },
  {
   "cell_type": "code",
   "execution_count": 62,
   "metadata": {},
   "outputs": [
    {
     "name": "stdout",
     "output_type": "stream",
     "text": [
      "9062683440\n"
     ]
    }
   ],
   "source": [
    "#* is used for multiple time\n",
    "msg = 'this is tool my phone is 9062683440'\n",
    "reg1 = re.compile(r'(\\+91)*-?(\\d\\d\\d\\d\\d\\d\\d\\d\\d\\d)')\n",
    "mo1 = reg1.search(msg)\n",
    "\n",
    "print(mo1.group())"
   ]
  },
  {
   "cell_type": "code",
   "execution_count": 69,
   "metadata": {},
   "outputs": [
    {
     "name": "stdout",
     "output_type": "stream",
     "text": [
      "hahaha\n"
     ]
    }
   ],
   "source": [
    "#{} is used for number of repetation\n",
    "msg = 'this is tool my phone is hahahahahaha'\n",
    "reg1 = re.compile(r'(ha){3}')\n",
    "mo1 = reg1.search(msg)\n",
    "\n",
    "print(mo1.group())"
   ]
  },
  {
   "cell_type": "code",
   "execution_count": 71,
   "metadata": {},
   "outputs": [
    {
     "name": "stdout",
     "output_type": "stream",
     "text": [
      "hahahahahaha\n"
     ]
    }
   ],
   "source": [
    "#{} is used for number of repetation min , max\n",
    "msg = 'this is tool my phone is hahahahahaha'\n",
    "reg1 = re.compile(r'(ha){3,6}')\n",
    "mo1 = reg1.search(msg)\n",
    "\n",
    "print(mo1.group())"
   ]
  },
  {
   "cell_type": "code",
   "execution_count": 73,
   "metadata": {},
   "outputs": [
    {
     "name": "stdout",
     "output_type": "stream",
     "text": [
      "['batm', 'batm', 'batg']\n"
     ]
    }
   ],
   "source": [
    "#use of findall\n",
    "msg1 = 'batman is great . he will have two childen batman and batgirl . h'\n",
    "\n",
    "reg2 = re.compile(r'bat[MAN ,man ,gir]')\n",
    "mo3=reg2.findall(msg1)\n",
    "print(mo3)"
   ]
  },
  {
   "cell_type": "code",
   "execution_count": 74,
   "metadata": {},
   "outputs": [
    {
     "name": "stdout",
     "output_type": "stream",
     "text": [
      "['cat', 'bat', 'hat', 'sat']\n"
     ]
    }
   ],
   "source": [
    "\n",
    "reg2 = re.compile(r'.at')\n",
    "mo = reg2.findall('cat bat hat sat')\n",
    "print(mo)"
   ]
  },
  {
   "cell_type": "code",
   "execution_count": null,
   "metadata": {},
   "outputs": [],
   "source": []
  }
 ],
 "metadata": {
  "kernelspec": {
   "display_name": "Python 3",
   "language": "python",
   "name": "python3"
  },
  "language_info": {
   "codemirror_mode": {
    "name": "ipython",
    "version": 3
   },
   "file_extension": ".py",
   "mimetype": "text/x-python",
   "name": "python",
   "nbconvert_exporter": "python",
   "pygments_lexer": "ipython3",
   "version": "3.7.6"
  }
 },
 "nbformat": 4,
 "nbformat_minor": 4
}
