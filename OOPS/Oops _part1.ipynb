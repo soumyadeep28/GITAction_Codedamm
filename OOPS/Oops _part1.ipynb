{
 "cells": [
  {
   "cell_type": "code",
   "execution_count": 11,
   "metadata": {},
   "outputs": [
    {
     "name": "stdout",
     "output_type": "stream",
     "text": [
      "I am Created phone\n",
      "<class '__main__.Item'>\n",
      "phone\n",
      "10000\n",
      "I am Created Laptop\n",
      "<class '__main__.Item'>\n",
      "Laptop\n",
      "10000\n"
     ]
    }
   ],
   "source": [
    "class Item :\n",
    "    def __init__(self ,name ):\n",
    "        print(f'I am Created {name}')\n",
    "        self.name = name\n",
    "        \n",
    "        \n",
    "        \n",
    "    def calculate_price(self) :\n",
    "        return self.quantity * self.price\n",
    "    pass\n",
    "\n",
    "item1 = Item('phone')\n",
    "\n",
    "\n",
    "item1.quantity = 5\n",
    "item1.price= 2000\n",
    "\n",
    "print(type(item1))\n",
    "print(item1.name)\n",
    "print(item1.calculate_price())\n",
    "\n",
    "\n",
    "\n",
    "item2 = Item('Laptop')\n",
    "\n",
    "item1.quantity = 5\n",
    "item1.price= 2000\n",
    "\n",
    "print(type(item2))\n",
    "print(item2.name)\n",
    "print(item1.calculate_price())"
   ]
  },
  {
   "cell_type": "code",
   "execution_count": 32,
   "metadata": {},
   "outputs": [
    {
     "name": "stdout",
     "output_type": "stream",
     "text": [
      "Object created\n",
      "mobile\n",
      "1000\n",
      "<class 'int'>\n",
      "8.5\n",
      "85.0\n"
     ]
    }
   ],
   "source": [
    "\n",
    "\n",
    "class Details:\n",
    "    discount = 8.5  #this is  class level param\n",
    "    def __init__(self:str , name:int , price):\n",
    "        \n",
    "        print(\"Object created\")\n",
    "        assert price>=0, f\"{price} is not greater than 0\"  #to validate and commands to share output io the user\n",
    "        self.name = name\n",
    "        self.price = price\n",
    "        \n",
    "    def appludiscount(self):\n",
    "        return (self.price * self.discount)/100\n",
    "        \n",
    "        \n",
    "    pass\n",
    "\n",
    "\n",
    "details1 = Details('mobile' ,1000)\n",
    "print(details1.name)\n",
    "print(details1.price)\n",
    "print(type(details1.price))\n",
    "print(Details.discount)\n",
    "print(details1.appludiscount())"
   ]
  },
  {
   "cell_type": "code",
   "execution_count": 27,
   "metadata": {},
   "outputs": [
    {
     "name": "stdout",
     "output_type": "stream",
     "text": [
      "{'__module__': '__main__', 'metadata': 404, '__init__': <function Details.__init__ at 0x000002A98F27DC18>, '__dict__': <attribute '__dict__' of 'Details' objects>, '__weakref__': <attribute '__weakref__' of 'Details' objects>, '__doc__': None}\n",
      "\n",
      "\n",
      "{'name': 'mobile', 'price': 1000}\n"
     ]
    }
   ],
   "source": [
    "print(Details.__dict__ )\n",
    "print('\\n')\n",
    "print(details1.__dict__)"
   ]
  },
  {
   "cell_type": "code",
   "execution_count": null,
   "metadata": {},
   "outputs": [],
   "source": []
  },
  {
   "cell_type": "code",
   "execution_count": null,
   "metadata": {},
   "outputs": [],
   "source": []
  },
  {
   "cell_type": "code",
   "execution_count": null,
   "metadata": {},
   "outputs": [],
   "source": []
  },
  {
   "cell_type": "code",
   "execution_count": 39,
   "metadata": {},
   "outputs": [],
   "source": [
    "class Details:\n",
    "    discount = 8.5  #this is  class level param\n",
    "    all = []\n",
    "    def __init__(self , name:str , price:int ,):\n",
    "        \n",
    "        print(\"Object created\")\n",
    "        assert price>=0, f\"{price} is not greater than 0\"  #to validate and commands to share output io the user\n",
    "        self.name = name\n",
    "        self.price = price\n",
    "        \n",
    "        \n",
    "        \n",
    "        #storing all the param from the initials\n",
    "        Details.all.append(self)\n",
    "        \n",
    "    def appludiscount(self):\n",
    "        return (self.price * self.discount)/100\n",
    "    \n",
    "    \n",
    "    \n",
    "        \n",
    "        \n",
    "    pass"
   ]
  },
  {
   "cell_type": "code",
   "execution_count": 41,
   "metadata": {},
   "outputs": [
    {
     "name": "stdout",
     "output_type": "stream",
     "text": [
      "Object created\n",
      "Object created\n",
      "Object created\n",
      "[<__main__.Details object at 0x000002A98F3AC308>, <__main__.Details object at 0x000002A98F3AC708>, <__main__.Details object at 0x000002A98F3ACC88>, <__main__.Details object at 0x000002A98F3A6608>, <__main__.Details object at 0x000002A98F3A6548>, <__main__.Details object at 0x000002A98F3A6708>]\n",
      "all the listed values\n",
      "mobile\n",
      "Laptop\n",
      "mac\n",
      "mobile\n",
      "Laptop\n",
      "mac\n"
     ]
    }
   ],
   "source": [
    "details1 = Details('mobile' ,10000)\n",
    "details2 = Details('Laptop' , 50000)\n",
    "details3 = Details('mac' , 100000)\n",
    "\n",
    "\n",
    "print(Details.all)\n",
    "\n",
    "\n",
    "print('all the listed values')\n",
    "\n",
    "for instance in Details.all:\n",
    "    print(instance.name)"
   ]
  },
  {
   "cell_type": "code",
   "execution_count": null,
   "metadata": {},
   "outputs": [],
   "source": []
  },
  {
   "cell_type": "code",
   "execution_count": null,
   "metadata": {},
   "outputs": [],
   "source": []
  }
 ],
 "metadata": {
  "kernelspec": {
   "display_name": "Python 3",
   "language": "python",
   "name": "python3"
  },
  "language_info": {
   "codemirror_mode": {
    "name": "ipython",
    "version": 3
   },
   "file_extension": ".py",
   "mimetype": "text/x-python",
   "name": "python",
   "nbconvert_exporter": "python",
   "pygments_lexer": "ipython3",
   "version": "3.7.6"
  }
 },
 "nbformat": 4,
 "nbformat_minor": 4
}
